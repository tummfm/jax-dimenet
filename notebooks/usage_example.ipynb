{
 "cells": [
  {
   "cell_type": "markdown",
   "metadata": {
    "collapsed": true,
    "pycharm": {
     "name": "#%% md\n"
    }
   },
   "source": [
    "# Minimal usage example\n",
    "This notebook provides a minimal example on how to use the Haiku DimeNet++ model.\n",
    "For more real-world applications of the DimeNet++ model in MD simulations, please\n",
    "refer to the [DiffTRe](https://github.com/tummfm/difftre) repository."
   ]
  },
  {
   "cell_type": "code",
   "execution_count": null,
   "metadata": {
    "pycharm": {
     "name": "#%%\n"
    }
   },
   "outputs": [],
   "source": [
    "from functools import partial\n",
    "import warnings\n",
    "\n",
    "from jax import random, numpy as jnp\n",
    "from jax_md import space, partition\n",
    "import numpy as onp\n",
    "\n",
    "from jax_dimenet import dimenet, sparse_graph\n",
    "warnings.filterwarnings('ignore')  # disable warnings about float64 usage"
   ]
  },
  {
   "cell_type": "markdown",
   "metadata": {},
   "source": [
    "## Example molecular state\n",
    "We build a molecular snapshot as input to the DimeNet++ model."
   ]
  },
  {
   "cell_type": "code",
   "execution_count": null,
   "metadata": {
    "pycharm": {
     "name": "#%%\n"
    }
   },
   "outputs": [],
   "source": [
    "r_cut = 0.5  # cut-off for DimeNet++ graph connectivity and neighbor list\n",
    "side_length = 3.\n",
    "particles_per_side = 10\n",
    "box = jnp.ones(3) * side_length\n",
    "\n",
    "positions = onp.stack([onp.array(r) for r in onp.ndindex(particles_per_side,\n",
    "                                                         particles_per_side,\n",
    "                                                         particles_per_side)]\n",
    "                      )\n",
    "positions = jnp.array(positions) * side_length / particles_per_side\n",
    "displacement_fn, shift = space.periodic(box)\n",
    "neighbor_fn = partition.neighbor_list(displacement_fn, box,\n",
    "                                      r_cut, dr_threshold=0.05)\n",
    "neighbors = neighbor_fn.allocate(positions)"
   ]
  },
  {
   "cell_type": "markdown",
   "metadata": {},
   "source": [
    "## DimeNet++ energy function\n",
    "Now we want to use the DimeNet++ model as a Jax M.D. energy_fn, e.g. to run MD simulations."
   ]
  },
  {
   "cell_type": "code",
   "execution_count": null,
   "metadata": {
    "pycharm": {
     "name": "#%%\n"
    }
   },
   "outputs": [],
   "source": [
    "init_fn, dimenet_energy_fn = dimenet.energy_neighborlist(displacement_fn, r_cut)\n",
    "init_params = init_fn(random.PRNGKey(0), positions, neighbor=neighbors)\n",
    "energy_fn = partial(dimenet_energy_fn, init_params)  # jax_md energy_fn interface\n",
    "print('Predicted energy:', energy_fn(positions, neighbors))"
   ]
  },
  {
   "cell_type": "markdown",
   "metadata": {},
   "source": [
    "## DimeNet++ property prediction\n",
    "Finally, we can also predict global molecular properties. In this case, we can pre-compute the molecular graph."
   ]
  },
  {
   "cell_type": "code",
   "execution_count": null,
   "metadata": {
    "pycharm": {
     "name": "#%%\n"
    }
   },
   "outputs": [],
   "source": [
    "mol_graph, _ = sparse_graph.sparse_graph_from_neighborlist(\n",
    "    displacement_fn, positions, neighbors, r_cut)\n",
    "init_fn, property_predictor = dimenet.property_prediction(r_cut, n_targets=5)\n",
    "init_params = init_fn(random.PRNGKey(0), mol_graph)\n",
    "print('Predicted properties:', property_predictor(init_params, mol_graph))"
   ]
  }
 ],
 "metadata": {
  "kernelspec": {
   "display_name": "Python 3 (ipykernel)",
   "language": "python",
   "name": "python3"
  },
  "language_info": {
   "codemirror_mode": {
    "name": "ipython",
    "version": 3
   },
   "file_extension": ".py",
   "mimetype": "text/x-python",
   "name": "python",
   "nbconvert_exporter": "python",
   "pygments_lexer": "ipython3",
   "version": "3.8.13"
  }
 },
 "nbformat": 4,
 "nbformat_minor": 1
}